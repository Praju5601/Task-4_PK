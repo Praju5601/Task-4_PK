{
 "cells": [
  {
   "cell_type": "markdown",
   "id": "31a8fb8c-ccb0-4438-9728-d6063e983c05",
   "metadata": {},
   "source": [
    "# Task-4"
   ]
  },
  {
   "cell_type": "markdown",
   "id": "4f186f4b-14f3-4e62-a06f-2d63020af428",
   "metadata": {},
   "source": [
    "## complete example of 8 dict function  / methods\t\t\t"
   ]
  },
  {
   "cell_type": "markdown",
   "id": "b635ff9a-2890-4d6a-af99-d824bf311526",
   "metadata": {},
   "source": [
    "### Clear()"
   ]
  },
  {
   "cell_type": "markdown",
   "id": "0671dd01-6449-45f5-bbb3-892380330f48",
   "metadata": {},
   "source": [
    "* Removes all items from the dictionary."
   ]
  },
  {
   "cell_type": "code",
   "execution_count": 6,
   "id": "3e414183-e96e-4d02-88a1-12ca6a622db9",
   "metadata": {},
   "outputs": [
    {
     "name": "stdout",
     "output_type": "stream",
     "text": [
      "Original dictionary: {'a': 1, 'b': 2, 'c': 3}\n",
      "After clear(): {}\n"
     ]
    }
   ],
   "source": [
    "D1 = {'a': 1, 'b': 2, 'c': 3}\n",
    "print(f\"Original dictionary: {D1}\")\n",
    "D1.clear()\n",
    "print(f\"After clear(): {D1}\")"
   ]
  },
  {
   "cell_type": "markdown",
   "id": "025aefd8-7cc1-46e6-bf7b-c798656b5d06",
   "metadata": {},
   "source": [
    "### Copy()"
   ]
  },
  {
   "cell_type": "markdown",
   "id": "df76539e-f01e-4956-b13c-bf09cbba50a1",
   "metadata": {},
   "source": [
    "* Returns a shallow copy of the dictionary."
   ]
  },
  {
   "cell_type": "code",
   "execution_count": 12,
   "id": "81fa37c4-45d0-4dc8-94d1-6d047a9c60c5",
   "metadata": {},
   "outputs": [
    {
     "name": "stdout",
     "output_type": "stream",
     "text": [
      " After Copied dictionary: {'a': 1, 'b': 2, 'c': 3}\n"
     ]
    }
   ],
   "source": [
    "D2 = {'a': 1, 'b': 2, 'c': 3}\n",
    "copied_dict = D2.copy()\n",
    "print(f\" After Copied dictionary: {copied_dict}\")"
   ]
  },
  {
   "cell_type": "markdown",
   "id": "4d748d62-5453-4968-b84e-05b6ef4bf743",
   "metadata": {},
   "source": [
    "### Get()"
   ]
  },
  {
   "cell_type": "markdown",
   "id": "31def9a4-5b45-41ad-94e9-2b45358cc697",
   "metadata": {},
   "source": [
    "* Returns the value for the specified key if the key is in the dictionary. If not, it returns the specified default value (or None if not provided)."
   ]
  },
  {
   "cell_type": "code",
   "execution_count": 17,
   "id": "a6a35b69-71c0-4ecc-8970-55082bfeeb42",
   "metadata": {},
   "outputs": [
    {
     "name": "stdout",
     "output_type": "stream",
     "text": [
      "Value for key 'b': 2\n",
      "Value for key 'd': Key not found\n"
     ]
    }
   ],
   "source": [
    "D3 = {'a': 1, 'b': 2, 'c': 3}\n",
    "value = D3.get('b')\n",
    "print(f\"Value for key 'b': {value}\")\n",
    "value = D3.get('d', 'Key not found')\n",
    "print(f\"Value for key 'd': {value}\")"
   ]
  },
  {
   "cell_type": "markdown",
   "id": "300302f9-6197-4ded-aa9d-321072be9027",
   "metadata": {},
   "source": [
    "### Items()"
   ]
  },
  {
   "cell_type": "markdown",
   "id": "b4938726-a8e3-4279-acfb-b99e5e61e990",
   "metadata": {},
   "source": [
    "* Returns a view object containing the key-value pairs of the dictionary as tuples."
   ]
  },
  {
   "cell_type": "code",
   "execution_count": 21,
   "id": "aa634faf-57e9-49ff-8b81-4e256bfd8549",
   "metadata": {},
   "outputs": [
    {
     "name": "stdout",
     "output_type": "stream",
     "text": [
      "Dictionary items: dict_items([('a', 1), ('b', 2), ('c', 3)])\n"
     ]
    }
   ],
   "source": [
    "D4 = {'a': 1, 'b': 2, 'c': 3}\n",
    "items = D4.items()\n",
    "print(f\"Dictionary items: {items}\")"
   ]
  },
  {
   "cell_type": "markdown",
   "id": "943cfda2-d142-4d57-b507-33d8d0c01419",
   "metadata": {},
   "source": [
    "### Keys()"
   ]
  },
  {
   "cell_type": "markdown",
   "id": "a658d3c1-7f99-4bee-bcfc-47e4d3562df1",
   "metadata": {},
   "source": [
    "* Returns a view object containing the keys of the dictionary."
   ]
  },
  {
   "cell_type": "code",
   "execution_count": 25,
   "id": "015072e5-95c4-4a27-a5f2-f63794f444d7",
   "metadata": {},
   "outputs": [
    {
     "name": "stdout",
     "output_type": "stream",
     "text": [
      "Dictionary keys: dict_keys(['a', 'b', 'c'])\n"
     ]
    }
   ],
   "source": [
    "D5 = {'a': 1, 'b': 2, 'c': 3}\n",
    "keys = D5.keys()\n",
    "print(f\"Dictionary keys: {keys}\")"
   ]
  },
  {
   "cell_type": "markdown",
   "id": "a1b6850e-f7e4-433c-aec5-3d2a6f09d5cb",
   "metadata": {},
   "source": [
    "### Pop()"
   ]
  },
  {
   "cell_type": "markdown",
   "id": "899061bd-b22d-48a8-9dad-fc7174ad5201",
   "metadata": {},
   "source": [
    "* Removes the item with the specified key and returns its value. If the key is not found, it raises a KeyError unless a default value is provided."
   ]
  },
  {
   "cell_type": "code",
   "execution_count": 30,
   "id": "ceff9301-63d1-4104-8246-3e19ce9b672c",
   "metadata": {},
   "outputs": [
    {
     "name": "stdout",
     "output_type": "stream",
     "text": [
      "Value removed: 2\n",
      "Dictionary after pop(): {'a': 1, 'c': 3}\n",
      "Value removed: Key not found\n"
     ]
    }
   ],
   "source": [
    "D6 = {'a': 1, 'b': 2, 'c': 3}\n",
    "value = D6.pop('b')\n",
    "print(f\"Value removed: {value}\")\n",
    "print(f\"Dictionary after pop(): {D6}\")\n",
    "value = D6.pop('d', 'Key not found')\n",
    "print(f\"Value removed: {value}\")"
   ]
  },
  {
   "cell_type": "markdown",
   "id": "a32508ad-018c-4092-809d-5ca92128c6f5",
   "metadata": {},
   "source": [
    "### PopIteam()"
   ]
  },
  {
   "cell_type": "markdown",
   "id": "ecffdfdc-6e65-4712-9605-177371d929a2",
   "metadata": {},
   "source": [
    "* Removes and returns a random (key, value) pair from the dictionary as a tuple. It raises a KeyError if the dictionary is empty."
   ]
  },
  {
   "cell_type": "code",
   "execution_count": 36,
   "id": "8b0243c1-219b-4e3d-8849-2b6068ad783f",
   "metadata": {},
   "outputs": [
    {
     "name": "stdout",
     "output_type": "stream",
     "text": [
      "Item removed: ('c', 3)\n",
      "Dictionary after popitem(): {'a': 1, 'b': 2}\n"
     ]
    }
   ],
   "source": [
    "D7 = {'a': 1, 'b': 2, 'c': 3}\n",
    "key, value = D7.popitem()\n",
    "print(f\"Item removed: {(key, value)}\")\n",
    "print(f\"Dictionary after popitem(): {D7}\")\n"
   ]
  },
  {
   "cell_type": "markdown",
   "id": "49120197-0246-4040-8bb7-294bcf193222",
   "metadata": {},
   "source": [
    "### Update()"
   ]
  },
  {
   "cell_type": "markdown",
   "id": "edd17f73-bd1b-4d47-872a-e046a5f2ea64",
   "metadata": {},
   "source": [
    "* Updates the dictionary with elements from another dictionary object or from an iterable of key-value pairs."
   ]
  },
  {
   "cell_type": "code",
   "execution_count": 41,
   "id": "4dc7704e-d46f-4cdb-bc56-05aa616b6c18",
   "metadata": {},
   "outputs": [
    {
     "name": "stdout",
     "output_type": "stream",
     "text": [
      "Dictionary after update(): {'a': 1, 'b': 3, 'c': 4}\n"
     ]
    }
   ],
   "source": [
    "D8 = {'a': 1, 'b': 2}\n",
    "update_dict = {'b': 3, 'c': 4}\n",
    "D8.update(update_dict)\n",
    "print(f\"Dictionary after update(): {D8}\")"
   ]
  },
  {
   "cell_type": "code",
   "execution_count": null,
   "id": "704eb815-0351-4ce8-9651-35bbc860d0f9",
   "metadata": {},
   "outputs": [],
   "source": []
  },
  {
   "cell_type": "code",
   "execution_count": null,
   "id": "48206878-89de-44f2-8fd6-4a66c5c97f07",
   "metadata": {},
   "outputs": [],
   "source": []
  },
  {
   "cell_type": "markdown",
   "id": "cb89c8c6-35c1-46b7-afd6-c663786677d9",
   "metadata": {},
   "source": [
    "# craete 10 if/else with input code\t\t\t"
   ]
  },
  {
   "cell_type": "markdown",
   "id": "149ff4a3-2eb0-4828-b993-6ff6bce2d0b1",
   "metadata": {},
   "source": [
    "* if/else statements in Python that utilize user input to demonstrate various conditions and scenarios."
   ]
  },
  {
   "cell_type": "markdown",
   "id": "1acc6084-78d4-474e-8fff-d79cb21fd991",
   "metadata": {},
   "source": [
    "### Example 1: Check if a Number is Positive, Negative, or Zero"
   ]
  },
  {
   "cell_type": "code",
   "execution_count": 55,
   "id": "5469de0f-577a-46f6-80c6-d97427b3c81c",
   "metadata": {},
   "outputs": [
    {
     "name": "stdin",
     "output_type": "stream",
     "text": [
      "Enter a number:  3\n"
     ]
    },
    {
     "name": "stdout",
     "output_type": "stream",
     "text": [
      "The number is positive.\n"
     ]
    }
   ],
   "source": [
    "num = float(input(\"Enter a number: \"))\n",
    "\n",
    "if num > 0:\n",
    "    print(\"The number is positive.\")\n",
    "elif num < 0:\n",
    "    print(\"The number is negative.\")\n",
    "else:\n",
    "    print(\"The number is zero.\")"
   ]
  },
  {
   "cell_type": "markdown",
   "id": "3ee1a8aa-28fd-4454-b18e-ec727fe9adae",
   "metadata": {},
   "source": [
    "### Example 2: Check if a Number is Even or Odd"
   ]
  },
  {
   "cell_type": "code",
   "execution_count": 87,
   "id": "cff6f926-b69d-4c3e-add4-fb818cba602d",
   "metadata": {},
   "outputs": [
    {
     "name": "stdin",
     "output_type": "stream",
     "text": [
      "Enter an integer:  9\n"
     ]
    },
    {
     "name": "stdout",
     "output_type": "stream",
     "text": [
      "The number is odd.\n"
     ]
    }
   ],
   "source": [
    "num = int(input(\"Enter an integer: \"))\n",
    "\n",
    "if num % 2 == 0:\n",
    "    print(\"The number is even.\")\n",
    "else:\n",
    "    print(\"The number is odd.\")"
   ]
  },
  {
   "cell_type": "markdown",
   "id": "3593ea54-eb6b-4e3f-93d2-dec269fd917d",
   "metadata": {},
   "source": [
    "### Example 3: Check if a String is a Palindrome"
   ]
  },
  {
   "cell_type": "code",
   "execution_count": 85,
   "id": "7affcfe6-9815-4748-9a47-fbe0fbffbe44",
   "metadata": {},
   "outputs": [
    {
     "name": "stdin",
     "output_type": "stream",
     "text": [
      "Enter a string:  radar\n"
     ]
    },
    {
     "name": "stdout",
     "output_type": "stream",
     "text": [
      "The string is a palindrome.\n"
     ]
    }
   ],
   "source": [
    "text = input(\"Enter a string: \")\n",
    "\n",
    "if text == text[::-1]:\n",
    "    print(\"The string is a palindrome.\")\n",
    "else:\n",
    "    print(\"The string is not a palindrome.\")"
   ]
  },
  {
   "cell_type": "markdown",
   "id": "220aebbc-436e-4559-a72e-e154ad113457",
   "metadata": {},
   "source": [
    "### Example 4: Determine Grade Based on Score"
   ]
  },
  {
   "cell_type": "code",
   "execution_count": 83,
   "id": "dfdf5617-e006-48fc-8614-01ec0d48b835",
   "metadata": {},
   "outputs": [
    {
     "name": "stdin",
     "output_type": "stream",
     "text": [
      "Enter the score (0-100):  85\n"
     ]
    },
    {
     "name": "stdout",
     "output_type": "stream",
     "text": [
      "Grade: B\n"
     ]
    }
   ],
   "source": [
    "score = float(input(\"Enter the score (0-100): \"))\n",
    "\n",
    "if score >= 90:\n",
    "    print(\"Grade: A\")\n",
    "elif score >= 80:\n",
    "    print(\"Grade: B\")\n",
    "elif score >= 70:\n",
    "    print(\"Grade: C\")\n",
    "elif score >= 60:\n",
    "    print(\"Grade: D\")\n",
    "else:\n",
    "    print(\"Grade: F\")"
   ]
  },
  {
   "cell_type": "markdown",
   "id": "657943aa-51ee-4d9f-9048-6fba138402de",
   "metadata": {},
   "source": [
    "### Example 5: Check if a Year is a Leap Year"
   ]
  },
  {
   "cell_type": "code",
   "execution_count": 81,
   "id": "0d60c76d-cc17-4f8d-b853-828f13938c6d",
   "metadata": {},
   "outputs": [
    {
     "name": "stdin",
     "output_type": "stream",
     "text": [
      "Enter a year:  2024\n"
     ]
    },
    {
     "name": "stdout",
     "output_type": "stream",
     "text": [
      "The year is a leap year.\n"
     ]
    }
   ],
   "source": [
    "year = int(input(\"Enter a year: \"))\n",
    "\n",
    "if (year % 4 == 0 and year % 100 != 0) or (year % 400 == 0):\n",
    "    print(\"The year is a leap year.\")\n",
    "else:\n",
    "    print(\"The year is not a leap year.\")"
   ]
  },
  {
   "cell_type": "markdown",
   "id": "d7406d24-c7c2-4b68-a8b9-88d9c0f07fb0",
   "metadata": {},
   "source": [
    "### Example 6: Check if a Character is a Vowel or Consonant"
   ]
  },
  {
   "cell_type": "code",
   "execution_count": 79,
   "id": "1e82bb31-85f0-4486-ba98-79e866d83761",
   "metadata": {},
   "outputs": [
    {
     "name": "stdin",
     "output_type": "stream",
     "text": [
      "Enter a character:  a\n"
     ]
    },
    {
     "name": "stdout",
     "output_type": "stream",
     "text": [
      "The character is a vowel.\n"
     ]
    }
   ],
   "source": [
    "char = input(\"Enter a character: \").lower()\n",
    "\n",
    "if char in 'aeiou':\n",
    "    print(\"The character is a vowel.\")\n",
    "else:\n",
    "    print(\"The character is a consonant.\")"
   ]
  },
  {
   "cell_type": "markdown",
   "id": "26479857-6cd1-41c2-98a4-bf5f6e6410d1",
   "metadata": {},
   "source": [
    "### Example 7: Check Age for Driving Eligibility"
   ]
  },
  {
   "cell_type": "code",
   "execution_count": 77,
   "id": "99226677-4c01-4e75-8ccc-fd1a9c38a641",
   "metadata": {},
   "outputs": [
    {
     "name": "stdin",
     "output_type": "stream",
     "text": [
      "Enter your age:  15\n"
     ]
    },
    {
     "name": "stdout",
     "output_type": "stream",
     "text": [
      "You are not eligible to drive.\n"
     ]
    }
   ],
   "source": [
    "age = int(input(\"Enter your age: \"))\n",
    "\n",
    "if age >= 18:\n",
    "    print(\"You are eligible to drive.\")\n",
    "else:\n",
    "    print(\"You are not eligible to drive.\")"
   ]
  },
  {
   "cell_type": "markdown",
   "id": "34af9897-c6b3-4e98-bdfe-cce074566d07",
   "metadata": {},
   "source": [
    "### Example 8: Compare Two Numbers"
   ]
  },
  {
   "cell_type": "code",
   "execution_count": 75,
   "id": "45f62f7d-f205-4ad8-8695-42de3f090e87",
   "metadata": {},
   "outputs": [
    {
     "name": "stdin",
     "output_type": "stream",
     "text": [
      "Enter the first number:  10\n",
      "Enter the second number:  20\n"
     ]
    },
    {
     "name": "stdout",
     "output_type": "stream",
     "text": [
      "The second number is greater.\n"
     ]
    }
   ],
   "source": [
    "num1 = float(input(\"Enter the first number: \"))\n",
    "num2 = float(input(\"Enter the second number: \"))\n",
    "\n",
    "if num1 > num2:\n",
    "    print(\"The first number is greater.\")\n",
    "elif num1 < num2:\n",
    "    print(\"The second number is greater.\")\n",
    "else:\n",
    "    print(\"Both numbers are equal.\")"
   ]
  },
  {
   "cell_type": "markdown",
   "id": "53b0a8a6-b9b5-45af-a1d2-7ed93679315b",
   "metadata": {},
   "source": [
    "### Example 9: Check if a Password is Strong"
   ]
  },
  {
   "cell_type": "code",
   "execution_count": 73,
   "id": "61665ac4-946b-42c9-95de-f8642514b801",
   "metadata": {},
   "outputs": [
    {
     "name": "stdin",
     "output_type": "stream",
     "text": [
      "Enter a password:  password1\n"
     ]
    },
    {
     "name": "stdout",
     "output_type": "stream",
     "text": [
      "The password is weak.\n"
     ]
    }
   ],
   "source": [
    "password = input(\"Enter a password: \")\n",
    "\n",
    "if len(password) >= 8 and any(char.isdigit() for char in password) and any(char.isupper() for char in password):\n",
    "    print(\"The password is strong.\")\n",
    "else:\n",
    "    print(\"The password is weak.\")\n",
    "    "
   ]
  },
  {
   "cell_type": "markdown",
   "id": "ad0dfe38-1188-4d98-941a-ed7332293d0e",
   "metadata": {},
   "source": [
    "### Example 10: Determine Weather Condition"
   ]
  },
  {
   "cell_type": "code",
   "execution_count": 71,
   "id": "8b4532be-fda4-48e3-a72a-8e6821980a04",
   "metadata": {},
   "outputs": [
    {
     "name": "stdin",
     "output_type": "stream",
     "text": [
      "Enter the current temperature in Celsius:  15\n"
     ]
    },
    {
     "name": "stdout",
     "output_type": "stream",
     "text": [
      "It's a bit chilly.\n"
     ]
    }
   ],
   "source": [
    "temperature = float(input(\"Enter the current temperature in Celsius: \"))\n",
    "\n",
    "if temperature > 30:\n",
    "    print(\"It's hot outside.\")\n",
    "elif temperature > 20:\n",
    "    print(\"The weather is nice.\")\n",
    "elif temperature > 10:\n",
    "    print(\"It's a bit chilly.\")\n",
    "else:\n",
    "    print(\"It's cold outside.\")"
   ]
  },
  {
   "cell_type": "code",
   "execution_count": null,
   "id": "40ed5507-7151-42f1-a5f9-c5ad84559079",
   "metadata": {},
   "outputs": [],
   "source": []
  }
 ],
 "metadata": {
  "kernelspec": {
   "display_name": "Python 3 (ipykernel)",
   "language": "python",
   "name": "python3"
  },
  "language_info": {
   "codemirror_mode": {
    "name": "ipython",
    "version": 3
   },
   "file_extension": ".py",
   "mimetype": "text/x-python",
   "name": "python",
   "nbconvert_exporter": "python",
   "pygments_lexer": "ipython3",
   "version": "3.12.4"
  }
 },
 "nbformat": 4,
 "nbformat_minor": 5
}
